{
 "cells": [
  {
   "cell_type": "code",
   "execution_count": 23,
   "id": "559d524e",
   "metadata": {},
   "outputs": [],
   "source": [
    "import numpy as np\n",
    "import pandas as pd\n",
    "from typing import Tuple\n",
    "import matplotlib.pyplot as plt\n",
    "import os\n",
    "\n",
    "####\n",
    "from catboost import CatBoostClassifier\n",
    "\n",
    "from sklearn.model_selection import train_test_split\n",
    "from sklearn.metrics import classification_report\n",
    "from sklearn.feature_extraction.text import TfidfVectorizer\n",
    "\n",
    "from collections import Counter\n",
    "\n",
    "from nltk.corpus import stopwords\n",
    "\n",
    "stop_words = set(stopwords.words(\"russian\"))"
   ]
  },
  {
   "cell_type": "code",
   "execution_count": 8,
   "id": "01be14ed",
   "metadata": {},
   "outputs": [],
   "source": [
    "import multiprocessing as mp\n",
    "from typing import Union\n",
    "import mlflow\n",
    "import os\n",
    "import re\n",
    "import sklearn\n",
    "import string\n",
    "\n",
    "sklearn.set_config(transform_output=\"pandas\")"
   ]
  },
  {
   "cell_type": "code",
   "execution_count": 9,
   "id": "553f8220",
   "metadata": {},
   "outputs": [],
   "source": [
    "# if __name__ == \"__main__\":\n",
    "#     mp.set_start_method(\"spawn\", force=True)\n",
    "# DEVICE = \"cuda\" if torch.cuda.is_available() else \"cpu\"\n",
    "# # GENERATOR = (\n",
    "# #     torch.Generator(device=DEVICE) if torch.cuda.is_available() else torch.Generator()\n",
    "# # )\n",
    "# GENERATOR = torch.Generator()\n",
    "\n",
    "# use_mlflow = True\n",
    "# mlflow.set_tracking_uri(\"http://localhost:5000\")\n",
    "CURR_DIR = os.curdir"
   ]
  },
  {
   "cell_type": "code",
   "execution_count": 10,
   "id": "daf36135",
   "metadata": {},
   "outputs": [],
   "source": [
    "stop_words.difference_update({\"не\", \"нет\", \"без\"})"
   ]
  },
  {
   "cell_type": "code",
   "execution_count": 11,
   "id": "12fbc709",
   "metadata": {},
   "outputs": [],
   "source": [
    "def data_preprocessing(text: str) -> str:\n",
    "    \"\"\"preprocessing string: lowercase, removing html-tags, punctuation,\n",
    "                            stopwords, digits\n",
    "\n",
    "    Args:\n",
    "        text (str): input string for preprocessing\n",
    "\n",
    "    Returns:\n",
    "        str: preprocessed string\n",
    "    \"\"\"\n",
    "\n",
    "    text = text.lower()\n",
    "    text = re.sub(\"<.*?>\", \"\", text)  # html tags\n",
    "    text = \"\".join(\n",
    "        [c for c in text if c not in string.punctuation]\n",
    "    )  # Remove punctuation\n",
    "    text = \" \".join([word for word in text.split() if word not in stop_words])\n",
    "    text = \" \".join([word for word in text.split() if not word.isdigit()])\n",
    "    return text"
   ]
  },
  {
   "cell_type": "code",
   "execution_count": 19,
   "id": "0154ab9a",
   "metadata": {},
   "outputs": [
    {
     "name": "stdout",
     "output_type": "stream",
     "text": [
      "(70597, 2)\n"
     ]
    },
    {
     "data": {
      "text/html": [
       "<div>\n",
       "<style scoped>\n",
       "    .dataframe tbody tr th:only-of-type {\n",
       "        vertical-align: middle;\n",
       "    }\n",
       "\n",
       "    .dataframe tbody tr th {\n",
       "        vertical-align: top;\n",
       "    }\n",
       "\n",
       "    .dataframe thead th {\n",
       "        text-align: right;\n",
       "    }\n",
       "</style>\n",
       "<table border=\"1\" class=\"dataframe\">\n",
       "  <thead>\n",
       "    <tr style=\"text-align: right;\">\n",
       "      <th></th>\n",
       "      <th>content</th>\n",
       "      <th>labels</th>\n",
       "    </tr>\n",
       "  </thead>\n",
       "  <tbody>\n",
       "    <tr>\n",
       "      <th>0</th>\n",
       "      <td>Огромное спасибо за чудесное удаление двух зуб...</td>\n",
       "      <td>1</td>\n",
       "    </tr>\n",
       "    <tr>\n",
       "      <th>1</th>\n",
       "      <td>Хочу выразить особую благодарность замечательн...</td>\n",
       "      <td>1</td>\n",
       "    </tr>\n",
       "    <tr>\n",
       "      <th>2</th>\n",
       "      <td>Добрый вечер! Хотелось бы поблагодарить сотруд...</td>\n",
       "      <td>1</td>\n",
       "    </tr>\n",
       "    <tr>\n",
       "      <th>3</th>\n",
       "      <td>Женщины советского образца в регистратуре не и...</td>\n",
       "      <td>0</td>\n",
       "    </tr>\n",
       "    <tr>\n",
       "      <th>4</th>\n",
       "      <td>У меня с детства очень плохие зубы (тонкая и х...</td>\n",
       "      <td>1</td>\n",
       "    </tr>\n",
       "  </tbody>\n",
       "</table>\n",
       "</div>"
      ],
      "text/plain": [
       "                                             content  labels\n",
       "0  Огромное спасибо за чудесное удаление двух зуб...       1\n",
       "1  Хочу выразить особую благодарность замечательн...       1\n",
       "2  Добрый вечер! Хотелось бы поблагодарить сотруд...       1\n",
       "3  Женщины советского образца в регистратуре не и...       0\n",
       "4  У меня с детства очень плохие зубы (тонкая и х...       1"
      ]
     },
     "execution_count": 19,
     "metadata": {},
     "output_type": "execute_result"
    }
   ],
   "source": [
    "df = pd.read_json(\n",
    "    os.path.join(CURR_DIR, \"..\", \"data\", \"healthcare_facilities_reviews.jsonl\"),\n",
    "    lines=True,\n",
    ")\n",
    "labels = df[\"sentiment\"].copy().apply(lambda x: 1 if x == \"positive\" else 0)\n",
    "df[\"labels\"] = labels\n",
    "data = df.loc[:, [\"content\", \"labels\"]].copy()\n",
    "print(data.shape)\n",
    "data.head()"
   ]
  },
  {
   "cell_type": "code",
   "execution_count": 20,
   "id": "ec68b24f",
   "metadata": {},
   "outputs": [
    {
     "data": {
      "text/html": [
       "<div>\n",
       "<style scoped>\n",
       "    .dataframe tbody tr th:only-of-type {\n",
       "        vertical-align: middle;\n",
       "    }\n",
       "\n",
       "    .dataframe tbody tr th {\n",
       "        vertical-align: top;\n",
       "    }\n",
       "\n",
       "    .dataframe thead th {\n",
       "        text-align: right;\n",
       "    }\n",
       "</style>\n",
       "<table border=\"1\" class=\"dataframe\">\n",
       "  <thead>\n",
       "    <tr style=\"text-align: right;\">\n",
       "      <th></th>\n",
       "      <th>content</th>\n",
       "      <th>labels</th>\n",
       "      <th>content_processed</th>\n",
       "    </tr>\n",
       "  </thead>\n",
       "  <tbody>\n",
       "    <tr>\n",
       "      <th>0</th>\n",
       "      <td>Огромное спасибо за чудесное удаление двух зуб...</td>\n",
       "      <td>1</td>\n",
       "      <td>огромное спасибо чудесное удаление двух зубов ...</td>\n",
       "    </tr>\n",
       "    <tr>\n",
       "      <th>1</th>\n",
       "      <td>Хочу выразить особую благодарность замечательн...</td>\n",
       "      <td>1</td>\n",
       "      <td>хочу выразить особую благодарность замечательн...</td>\n",
       "    </tr>\n",
       "    <tr>\n",
       "      <th>2</th>\n",
       "      <td>Добрый вечер! Хотелось бы поблагодарить сотруд...</td>\n",
       "      <td>1</td>\n",
       "      <td>добрый вечер хотелось поблагодарить сотруднико...</td>\n",
       "    </tr>\n",
       "    <tr>\n",
       "      <th>3</th>\n",
       "      <td>Женщины советского образца в регистратуре не и...</td>\n",
       "      <td>0</td>\n",
       "      <td>женщины советского образца регистратуре не име...</td>\n",
       "    </tr>\n",
       "    <tr>\n",
       "      <th>4</th>\n",
       "      <td>У меня с детства очень плохие зубы (тонкая и х...</td>\n",
       "      <td>1</td>\n",
       "      <td>детства очень плохие зубы тонкая хрупкая эмаль...</td>\n",
       "    </tr>\n",
       "  </tbody>\n",
       "</table>\n",
       "</div>"
      ],
      "text/plain": [
       "                                             content  labels  \\\n",
       "0  Огромное спасибо за чудесное удаление двух зуб...       1   \n",
       "1  Хочу выразить особую благодарность замечательн...       1   \n",
       "2  Добрый вечер! Хотелось бы поблагодарить сотруд...       1   \n",
       "3  Женщины советского образца в регистратуре не и...       0   \n",
       "4  У меня с детства очень плохие зубы (тонкая и х...       1   \n",
       "\n",
       "                                   content_processed  \n",
       "0  огромное спасибо чудесное удаление двух зубов ...  \n",
       "1  хочу выразить особую благодарность замечательн...  \n",
       "2  добрый вечер хотелось поблагодарить сотруднико...  \n",
       "3  женщины советского образца регистратуре не име...  \n",
       "4  детства очень плохие зубы тонкая хрупкая эмаль...  "
      ]
     },
     "execution_count": 20,
     "metadata": {},
     "output_type": "execute_result"
    }
   ],
   "source": [
    "data[\"content_processed\"] = data[\"content\"].copy().apply(data_preprocessing)\n",
    "data.head()"
   ]
  },
  {
   "cell_type": "code",
   "execution_count": 21,
   "id": "7183c333",
   "metadata": {},
   "outputs": [
    {
     "data": {
      "text/plain": [
       "labels\n",
       "1    41419\n",
       "0    29178\n",
       "Name: count, dtype: int64"
      ]
     },
     "execution_count": 21,
     "metadata": {},
     "output_type": "execute_result"
    }
   ],
   "source": [
    "data[\"labels\"].value_counts()"
   ]
  },
  {
   "cell_type": "code",
   "execution_count": 28,
   "id": "f2ecd270",
   "metadata": {},
   "outputs": [],
   "source": [
    "X_train, X_valid, y_train, y_valid = train_test_split(\n",
    "    data[\"content_processed\"], data[\"labels\"], test_size=0.2, random_state=42\n",
    ")"
   ]
  },
  {
   "cell_type": "code",
   "execution_count": 29,
   "id": "91eb5d63",
   "metadata": {},
   "outputs": [],
   "source": [
    "vectorizer = TfidfVectorizer(\n",
    "    max_features=5000,  # ограничим размер словаря (опционально)\n",
    "    ngram_range=(1, 2),  # используем униграммы и биграммы\n",
    "    stop_words=list(stop_words),  # можно указать 'russian' для русских стоп-слов\n",
    ")\n",
    "X_train = vectorizer.fit_transform(X_train)\n",
    "X_valid = vectorizer.transform(X_valid)"
   ]
  },
  {
   "cell_type": "code",
   "execution_count": 30,
   "id": "136ebd7f",
   "metadata": {},
   "outputs": [],
   "source": [
    "model = CatBoostClassifier(\n",
    "    iterations=300,  # число деревьев\n",
    "    depth=6,  # глубина\n",
    "    learning_rate=0.1,\n",
    "    eval_metric=\"Accuracy\",\n",
    "    verbose=50,\n",
    "    random_seed=42,\n",
    ")"
   ]
  },
  {
   "cell_type": "code",
   "execution_count": 31,
   "id": "54ef5b2a",
   "metadata": {},
   "outputs": [
    {
     "name": "stdout",
     "output_type": "stream",
     "text": [
      "0:\tlearn: 0.7969793\ttest: 0.7934136\tbest: 0.7934136 (0)\ttotal: 314ms\tremaining: 1m 33s\n",
      "50:\tlearn: 0.8648653\ttest: 0.8616856\tbest: 0.8616856 (50)\ttotal: 13.3s\tremaining: 1m 4s\n",
      "100:\tlearn: 0.8922747\ttest: 0.8861898\tbest: 0.8861898 (100)\ttotal: 25.5s\tremaining: 50.2s\n",
      "150:\tlearn: 0.9051118\ttest: 0.8955382\tbest: 0.8955382 (150)\ttotal: 37.9s\tremaining: 37.4s\n",
      "200:\tlearn: 0.9154877\ttest: 0.9026912\tbest: 0.9026912 (200)\ttotal: 50.1s\tremaining: 24.7s\n",
      "250:\tlearn: 0.9233139\ttest: 0.9072946\tbest: 0.9072946 (248)\ttotal: 1m 2s\tremaining: 12.1s\n",
      "299:\tlearn: 0.9300246\ttest: 0.9109065\tbest: 0.9109065 (298)\ttotal: 1m 13s\tremaining: 0us\n",
      "\n",
      "bestTest = 0.9109065156\n",
      "bestIteration = 298\n",
      "\n",
      "Shrink model to first 299 iterations.\n"
     ]
    },
    {
     "data": {
      "text/plain": [
       "<catboost.core.CatBoostClassifier at 0x730c85bb7560>"
      ]
     },
     "execution_count": 31,
     "metadata": {},
     "output_type": "execute_result"
    }
   ],
   "source": [
    "model.fit(X_train, y_train, eval_set=(X_valid, y_valid), use_best_model=True)"
   ]
  },
  {
   "cell_type": "code",
   "execution_count": 32,
   "id": "e0ff4e9a",
   "metadata": {},
   "outputs": [
    {
     "name": "stdout",
     "output_type": "stream",
     "text": [
      "              precision    recall  f1-score   support\n",
      "\n",
      "           0       0.88      0.91      0.89      5778\n",
      "           1       0.93      0.91      0.92      8342\n",
      "\n",
      "    accuracy                           0.91     14120\n",
      "   macro avg       0.91      0.91      0.91     14120\n",
      "weighted avg       0.91      0.91      0.91     14120\n",
      "\n"
     ]
    }
   ],
   "source": [
    "# 5. Оценка качества\n",
    "y_pred = model.predict(X_valid)\n",
    "print(classification_report(y_valid, y_pred))"
   ]
  },
  {
   "cell_type": "code",
   "execution_count": null,
   "id": "a7470f93",
   "metadata": {},
   "outputs": [],
   "source": [
    "# os.mkdir(os.path.join(CURR_DIR, \"weights\", \"Catboost+TFIDF\"))"
   ]
  },
  {
   "cell_type": "code",
   "execution_count": 34,
   "id": "953dffb2",
   "metadata": {},
   "outputs": [
    {
     "data": {
      "text/plain": [
       "['./weights/Catboost+TFIDF/tfidf_vectorizer.pkl']"
      ]
     },
     "execution_count": 34,
     "metadata": {},
     "output_type": "execute_result"
    }
   ],
   "source": [
    "import joblib\n",
    "\n",
    "model.save_model(\n",
    "    os.path.join(CURR_DIR, \"weights\", \"Catboost+TFIDF\", \"catboost_model.cbm\")\n",
    ")\n",
    "joblib.dump(\n",
    "    vectorizer,\n",
    "    os.path.join(CURR_DIR, \"weights\", \"Catboost+TFIDF\", \"tfidf_vectorizer.pkl\"),\n",
    ")"
   ]
  }
 ],
 "metadata": {
  "kernelspec": {
   "display_name": ".venv (3.12.10)",
   "language": "python",
   "name": "python3"
  },
  "language_info": {
   "codemirror_mode": {
    "name": "ipython",
    "version": 3
   },
   "file_extension": ".py",
   "mimetype": "text/x-python",
   "name": "python",
   "nbconvert_exporter": "python",
   "pygments_lexer": "ipython3",
   "version": "3.12.10"
  }
 },
 "nbformat": 4,
 "nbformat_minor": 5
}
